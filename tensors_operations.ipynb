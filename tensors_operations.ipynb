{
 "cells": [
  {
   "cell_type": "code",
   "execution_count": null,
   "id": "9266c78d-a944-4b2e-ac23-2ec2ca6d9cba",
   "metadata": {
    "editable": true,
    "slideshow": {
     "slide_type": ""
    },
    "tags": []
   },
   "outputs": [],
   "source": [
    "## In this lesson, we learn:\n",
    "1. **Creating tensors** – how to define scalars, vectors, matrices, and higher-dimensional tensors.\n",
    "2. **Understanding tensor shapes** – interpreting dimensions for debugging and model design.\n",
    "3. **Doing mathematical operations** – element-wise and matrix operations.\n",
    "4. **Real-world supply chain example** – calculating revenue from demand and price data.\n"
   ]
  },
  {
   "cell_type": "code",
   "execution_count": 2,
   "id": "c28347f7-8a42-4399-aa4e-ff6701a8c7a5",
   "metadata": {},
   "outputs": [
    {
     "name": "stdout",
     "output_type": "stream",
     "text": [
      "TensorFlow version: 2.18.0\n"
     ]
    }
   ],
   "source": [
    "# Step 1: Import TensorFlow\n",
    "import tensorflow as tf\n",
    "import numpy as np\n",
    "\n",
    "print(\"TensorFlow version:\", tf.__version__)\n"
   ]
  },
  {
   "cell_type": "code",
   "execution_count": 4,
   "id": "8179bcb6-af3c-4dc8-b618-02cd4c9b0229",
   "metadata": {},
   "outputs": [
    {
     "data": {
      "text/plain": [
       "(<tf.Tensor: shape=(), dtype=int32, numpy=5>,\n",
       " <tf.Tensor: shape=(3,), dtype=int32, numpy=array([10, 20, 30])>,\n",
       " <tf.Tensor: shape=(2, 2), dtype=int32, numpy=\n",
       " array([[1, 2],\n",
       "        [3, 4]])>,\n",
       " <tf.Tensor: shape=(2, 3, 4), dtype=int32, numpy=\n",
       " array([[[ 0,  1,  2,  3],\n",
       "         [ 4,  5,  6,  7],\n",
       "         [ 8,  9, 10, 11]],\n",
       " \n",
       "        [[12, 13, 14, 15],\n",
       "         [16, 17, 18, 19],\n",
       "         [20, 21, 22, 23]]])>)"
      ]
     },
     "execution_count": 4,
     "metadata": {},
     "output_type": "execute_result"
    }
   ],
   "source": [
    "# Step 2: Creating tensors\n",
    "scalar = tf.constant(5)  # scalar tensor (0-D)\n",
    "vector = tf.constant([10, 20, 30])  # 1-D tensor\n",
    "matrix = tf.constant([[1, 2], [3, 4]])  # 2-D tensor\n",
    "tensor_3d = tf.constant(np.arange(24).reshape(2, 3, 4))  # 3-D tensor\n",
    "\n",
    "scalar, vector, matrix, tensor_3d\n"
   ]
  },
  {
   "cell_type": "code",
   "execution_count": 6,
   "id": "13df8ae4-4db4-4dae-a7db-157795ed8206",
   "metadata": {},
   "outputs": [
    {
     "name": "stdout",
     "output_type": "stream",
     "text": [
      "Scalar shape: ()\n",
      "Vector shape: (3,)\n",
      "Matrix shape: (2, 2)\n",
      "3D Tensor shape: (2, 3, 4)\n"
     ]
    }
   ],
   "source": [
    "# Step 3: Checking shapes\n",
    "print(\"Scalar shape:\", scalar.shape)\n",
    "print(\"Vector shape:\", vector.shape)\n",
    "print(\"Matrix shape:\", matrix.shape)\n",
    "print(\"3D Tensor shape:\", tensor_3d.shape)\n"
   ]
  },
  {
   "cell_type": "code",
   "execution_count": 8,
   "id": "b3e88569-a45d-42b7-bdb2-1613365f4d7f",
   "metadata": {},
   "outputs": [
    {
     "name": "stdout",
     "output_type": "stream",
     "text": [
      "Addition:\n",
      " tf.Tensor(\n",
      "[[ 7 14]\n",
      " [21 28]], shape=(2, 2), dtype=int32)\n",
      "Multiplication:\n",
      " tf.Tensor(\n",
      "[[ 10  40]\n",
      " [ 90 160]], shape=(2, 2), dtype=int32)\n",
      "Matrix multiplication:\n",
      " tf.Tensor(\n",
      "[[ 70 100]\n",
      " [150 220]], shape=(2, 2), dtype=int32)\n"
     ]
    }
   ],
   "source": [
    "# Step 4: Mathematical operations\n",
    "a = tf.constant([[5, 10], [15, 20]])\n",
    "b = tf.constant([[2, 4], [6, 8]])\n",
    "\n",
    "print(\"Addition:\\n\", tf.add(a, b))\n",
    "print(\"Multiplication:\\n\", tf.multiply(a, b))\n",
    "print(\"Matrix multiplication:\\n\", tf.matmul(a, b))\n"
   ]
  },
  {
   "cell_type": "code",
   "execution_count": 10,
   "id": "c3f3db82-b363-4542-9665-c38fbc0f799a",
   "metadata": {},
   "outputs": [
    {
     "name": "stdout",
     "output_type": "stream",
     "text": [
      "Revenue per region: [5550 8000]\n"
     ]
    }
   ],
   "source": [
    "# Step 5: Real supply chain mini-example:\n",
    "# Weekly demand forecast (units) for 3 products across 2 regions\n",
    "demand = tf.constant([[120, 150, 90],\n",
    "                      [200, 180, 160]])\n",
    "\n",
    "# Price per unit\n",
    "price = tf.constant([10, 20, 15])\n",
    "\n",
    "# Total revenue = demand * price per product\n",
    "revenue = tf.multiply(demand, price)\n",
    "total_revenue_per_region = tf.reduce_sum(revenue, axis=1)\n",
    "\n",
    "print(\"Revenue per region:\", total_revenue_per_region.numpy())\n"
   ]
  },
  {
   "cell_type": "code",
   "execution_count": 12,
   "id": "783fd01d-4010-4879-92df-7656c07dc039",
   "metadata": {},
   "outputs": [
    {
     "data": {
      "image/png": "[encoded data removed]",
      "text/plain": [
       "<Figure size 640x480 with 2 Axes>"
      ]
     },
     "metadata": {},
     "output_type": "display_data"
    }
   ],
   "source": [
    "# Step 6: Visualizing tensor shapes\n",
    "import matplotlib.pyplot as plt\n",
    "\n",
    "plt.imshow(demand.numpy(), cmap=\"Blues\")\n",
    "plt.title(\"Weekly Demand (Units)\")\n",
    "plt.colorbar(label=\"Units Sold\")\n",
    "plt.xlabel(\"Product\")\n",
    "plt.ylabel(\"Region\")\n",
    "plt.show()\n"
   ]
  }
 ],
 "metadata": {
  "kernelspec": {
   "display_name": "Python 3 (ipykernel)",
   "language": "python",
   "name": "python3"
  },
  "language_info": {
   "codemirror_mode": {
    "name": "ipython",
    "version": 3
   },
   "file_extension": ".py",
   "mimetype": "text/x-python",
   "name": "python",
   "nbconvert_exporter": "python",
   "pygments_lexer": "ipython3",
   "version": "3.12.4"
  }
 },
 "nbformat": 4,
 "nbformat_minor": 5
}
